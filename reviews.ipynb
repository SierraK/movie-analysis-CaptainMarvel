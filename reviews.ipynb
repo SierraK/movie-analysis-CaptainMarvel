{
 "cells": [
  {
   "cell_type": "markdown",
   "metadata": {},
   "source": [
    "# Sentiment Analysis Comparison of Tweets and Rotten Tomatoes Reviews For Captain Marvel"
   ]
  },
  {
   "cell_type": "markdown",
   "metadata": {},
   "source": [
    "Name: Sierra King\n",
    "\n",
    "This data was collected from the Twitter api using the hashtag #captainmarvel and web scraping Rotten Tomatoes Captain Marvel webpage to gather the user reviews."
   ]
  },
  {
   "cell_type": "markdown",
   "metadata": {},
   "source": [
    "## How the data was gathered from Twitter"
   ]
  },
  {
   "cell_type": "code",
   "execution_count": 1,
   "metadata": {},
   "outputs": [],
   "source": [
    "# Set up Twitter Authentication\n",
    "#auth = tweepy.OAuthHandler(consumer_key, consumer_secret)\n",
    "#auth.set_access_token(access_token, access_secret)\n",
    "\n",
    "#api = tweepy.API(auth)\n",
    "\n",
    "#query4 = tweepy.Cursor(api.search, q=\"#captainmarvel\", since = \"2019-03-04\", until = \"2019-03-05\").items(2000) \n",
    "#query5 = tweepy.Cursor(api.search, q=\"#captainmarvel\", since = \"2019-03-05\", until = \"2019-03-06\").items(2000) \n",
    "#query6 = tweepy.Cursor(api.search, q=\"#captainmarvel\", since = \"2019-03-06\", until = \"2019-03-07\").items(2000)\n",
    "#query4 = tweepy.Cursor(api.search, q=\"#captainmarvel\", since = \"2019-03-08\", until = \"2019-03-09\").items(2000) \n",
    "#query5 = tweepy.Cursor(api.search, q=\"#captainmarvel\", since = \"2019-03-09\", until = \"2019-03-10\").items(2000) \n",
    "#query6 = tweepy.Cursor(api.search, q=\"#captainmarvel\", since = \"2019-03-10\", until = \"2019-03-11\").items(2000)\n",
    "\n",
    "#with open('captain_marvel_after.pkl', 'rb') as f:\n",
    "#    query1 = pickle.load(f)          \n",
    "#for tweet in query6:\n",
    "#    if tweet.lang == 'en':\n",
    "#        query1.append(tweet)\n",
    "#        print(tweet.created_at, tweet.text, '\\n\\n\\n')\n",
    "#with open('captain_marvel_after.pkl', 'wb') as f:\n",
    "#    pickle.dump(query1, f)"
   ]
  },
  {
   "cell_type": "markdown",
   "metadata": {},
   "source": [
    "## How the data was gathered from Rotten Tomatoes"
   ]
  },
  {
   "cell_type": "code",
   "execution_count": null,
   "metadata": {},
   "outputs": [],
   "source": [
    "#user_agent = {'User-agent': \"Chrome\"}\n",
    "#pages = [str(i) for i in range(1,617)]\n",
    "#review = []\n",
    "#review_text = []\n",
    "#\n",
    "#start_time = time()\n",
    "#num_requests = 0\n",
    "#\n",
    "#for page in pages:\n",
    "#    r = requests.get(\"https://www.rottentomatoes.com/m/captain_marvel/reviews/?page=\" + str(pages) + \"&type=user&sort=\", headers= user_agent)\n",
    "#    sleep(randint(10,25))\n",
    "#    \n",
    "#    num_requests += 1\n",
    "#    elapsed_time = time() - start_time\n",
    "#    print('Request:{}; Frequency: {} requests/s'.format(num_requests, num_requests/elapsed_time))\n",
    "#    clear_output(wait = True)\n",
    "#    \n",
    "#    soup = BeautifulSoup(r.text, 'html5lib')\n",
    "#    review += soup.find_all('div',{\"class\": \"user_review\"})\n",
    "#for i in review:\n",
    "#    review_text.append(i.text)\n",
    "#with open('captain_marvel_tomatoes.pkl', 'wb') as f:\n",
    "#    pickle.dump(review_text, f)"
   ]
  },
  {
   "cell_type": "markdown",
   "metadata": {},
   "source": [
    "## Import Data"
   ]
  },
  {
   "cell_type": "code",
   "execution_count": 3,
   "metadata": {},
   "outputs": [],
   "source": [
    "from bs4 import BeautifulSoup\n",
    "import requests\n",
    "import pickle\n",
    "from time import sleep\n",
    "from random import randint\n",
    "from IPython.core.display import clear_output\n",
    "from time import time\n",
    "import nltk\n",
    "import numpy as np\n",
    "from nltk.sentiment.vader import SentimentIntensityAnalyzer\n",
    "import matplotlib.pyplot as plt\n",
    "\n",
    "with open('pkl/captain_marvel_tomatoes.pkl', 'rb') as f:\n",
    "    captain_tom = pickle.load(f)\n",
    "    \n",
    "with open('pkl/captain_marvel_twitter.pkl', 'rb') as f:\n",
    "    captain_twitter = pickle.load(f)"
   ]
  },
  {
   "cell_type": "markdown",
   "metadata": {},
   "source": [
    "## Sentiment Analysis"
   ]
  },
  {
   "cell_type": "code",
   "execution_count": 4,
   "metadata": {},
   "outputs": [],
   "source": [
    "def sentimentAnalyzer(rotten_tom):\n",
    "    analyzer = SentimentIntensityAnalyzer()\n",
    "    summary = {\"positive\": 0, \"neutral\": 0, \"negative\": 0}\n",
    "    for i, t in enumerate(rotten_tom):\n",
    "        text = t\n",
    "        ss = analyzer.polarity_scores(text)\n",
    "        if ss[\"compound\"] > -0.05 and ss[\"compound\"] < 0.05:\n",
    "            summary[\"neutral\"] += 1\n",
    "        elif ss[\"compound\"] > 0.05:\n",
    "            summary[\"positive\"] += 1\n",
    "        else:\n",
    "            summary[\"negative\"] += 1\n",
    "    return summary\n",
    "\n",
    "def sentimentAnalyzerTwitter(tweets):\n",
    "    analyzer = SentimentIntensityAnalyzer()\n",
    "    summary = {\"positive\": 0, \"neutral\": 0, \"negative\": 0}\n",
    "    for i, t in enumerate(tweets):\n",
    "        text = t.text\n",
    "        ss = analyzer.polarity_scores(text)\n",
    "        if ss[\"compound\"] > -0.05 and ss[\"compound\"] < 0.05:\n",
    "            summary[\"neutral\"] += 1\n",
    "        elif ss[\"compound\"] > 0.05:\n",
    "            summary[\"positive\"] += 1\n",
    "        else:\n",
    "            summary[\"negative\"] += 1\n",
    "    return summary"
   ]
  },
  {
   "cell_type": "markdown",
   "metadata": {},
   "source": [
    "## Graphs"
   ]
  },
  {
   "cell_type": "code",
   "execution_count": 5,
   "metadata": {},
   "outputs": [],
   "source": [
    "def pieChart(review, message1, color1, color2, color3):\n",
    "    sizes = [review[\"positive\"], review[\"negative\"], review[\"neutral\"]]\n",
    "    names = ['Positive', 'Negative', 'Neutral']\n",
    "    colors = [color1, color2, color3]\n",
    "    explode = (0.05,0.05,0.05)\n",
    "    \n",
    "    plt.pie(sizes, colors = colors, labels=names, autopct='%1.1f%%', startangle=45, pctdistance=0.83, explode = explode, textprops = {'fontsize': 15})\n",
    "    plt.title(message1, size = 30)\n",
    "    centre_circle = plt.Circle((0,0),0.70,fc='white')\n",
    "    fig = plt.gcf()\n",
    "    fig.gca().add_artist(centre_circle)\n",
    "    plt.axis('equal') \n",
    "    plt.tight_layout()\n",
    "    plt.show()\n",
    "    \n",
    "def pieChartTwitter(review, message1, color1, color2, color3):\n",
    "    labels = ['Positive', 'Negative', 'Neutral']\n",
    "    sizes = [review['positive'], review['negative'], review['neutral']]\n",
    "    colors = [color1, color2, color3]\n",
    "    explode = (0.05, 0.05, 0.05)  \n",
    "    fig1, ax1 = plt.subplots()\n",
    "    ax1.pie(sizes, colors=colors, explode=explode, labels=labels, autopct='%1.1f%%',\n",
    "         startangle=90, textprops = {'fontsize': 15})\n",
    "    ax1.set_title(message1, size = 30)\n",
    "    ax1.axis('equal')  \n",
    "    plt.tight_layout()\n",
    "    plt.show()"
   ]
  },
  {
   "cell_type": "code",
   "execution_count": 6,
   "metadata": {},
   "outputs": [],
   "source": [
    "sentiment_captain = sentimentAnalyzer(captain_tom)\n",
    "sentiment_captain_twitter = sentimentAnalyzerTwitter(captain_twitter)\n",
    "pieChart(sentiment_captain, \"Rotten Tomatoes Reviews\", '#E74C3C', '#3498DB', '#F1C40F')\n",
    "pieChartTwitter(sentiment_captain_twitter, \"Twitter Tweets\", '#E74C3C', '#3498DB', '#F1C40F')"
   ]
  },
  {
   "cell_type": "markdown",
   "metadata": {},
   "source": [
    "### Notes:\n",
    "Based on the results, the reviews from Rotten Tomatoes were much more negative then the Twitter tweets. The Rotten Tomatoes had a 45% negative rated reviews and the Twitter tweets were 13.8% negative. There was about the same percentage of positive reviews from both Twitter and Rotten Tomatoes. The Twitter tweets had a large percentage of neutral rated tweets. \n",
    "\n",
    "This does support my question on whether there would be a difference in the Sentiment Analysis when comparing reviews from Twitter and Totten Tomatoes."
   ]
  },
  {
   "cell_type": "code",
   "execution_count": 61,
   "metadata": {},
   "outputs": [
    {
     "name": "stdout",
     "output_type": "stream",
     "text": [
      "Status(_json={'created_at': 'Sat Mar 09 23:54:48 +0000 2019', 'id': 1104531010530799619, 'id_str': '1104531010530799619', 'text': 'RT @Dragonzord572: #CaptainMarvel was with out a doubt the worst MCU movie of all time. Holy shit. This was so boring and retarded I almost…', 'truncated': False, 'entities': {'hashtags': [{'text': 'CaptainMarvel', 'indices': [19, 33]}], 'symbols': [], 'user_mentions': [{'screen_name': 'Dragonzord572', 'name': 'The King Cometh', 'id': 4920403269, 'id_str': '4920403269', 'indices': [3, 17]}], 'urls': []}, 'metadata': {'iso_language_code': 'en', 'result_type': 'recent'}, 'source': '<a href=\"http://twitter.com/download/iphone\" rel=\"nofollow\">Twitter for iPhone</a>', 'in_reply_to_status_id': None, 'in_reply_to_status_id_str': None, 'in_reply_to_user_id': None, 'in_reply_to_user_id_str': None, 'in_reply_to_screen_name': None, 'user': {'id': 215050879, 'id_str': '215050879', 'name': 'Patience', 'screen_name': 'MusicL0ver84', 'location': 'Orlando, FL', 'description': '🎗🎵👩\\u200d👧🍺🏈🌊 💔🖤💛', 'url': None, 'entities': {'description': {'urls': []}}, 'protected': False, 'followers_count': 1163, 'friends_count': 761, 'listed_count': 14, 'created_at': 'Fri Nov 12 21:48:29 +0000 2010', 'favourites_count': 20144, 'utc_offset': None, 'time_zone': None, 'geo_enabled': True, 'verified': False, 'statuses_count': 2670, 'lang': 'en', 'contributors_enabled': False, 'is_translator': False, 'is_translation_enabled': False, 'profile_background_color': '010A0D', 'profile_background_image_url': 'http://abs.twimg.com/images/themes/theme1/bg.png', 'profile_background_image_url_https': 'https://abs.twimg.com/images/themes/theme1/bg.png', 'profile_background_tile': True, 'profile_image_url': 'http://pbs.twimg.com/profile_images/1093622569637498882/lMo9zEUO_normal.jpg', 'profile_image_url_https': 'https://pbs.twimg.com/profile_images/1093622569637498882/lMo9zEUO_normal.jpg', 'profile_banner_url': 'https://pbs.twimg.com/profile_banners/215050879/1551274782', 'profile_link_color': 'F07509', 'profile_sidebar_border_color': 'FFFFFF', 'profile_sidebar_fill_color': '000000', 'profile_text_color': '404040', 'profile_use_background_image': True, 'has_extended_profile': True, 'default_profile': False, 'default_profile_image': False, 'following': False, 'follow_request_sent': False, 'notifications': False, 'translator_type': 'none'}, 'geo': None, 'coordinates': None, 'place': None, 'contributors': None, 'retweeted_status': {'created_at': 'Sat Mar 09 22:41:45 +0000 2019', 'id': 1104512627441573888, 'id_str': '1104512627441573888', 'text': '#CaptainMarvel was with out a doubt the worst MCU movie of all time. Holy shit. This was so boring and retarded I almost legit fell asleep.', 'truncated': False, 'entities': {'hashtags': [{'text': 'CaptainMarvel', 'indices': [0, 14]}], 'symbols': [], 'user_mentions': [], 'urls': []}, 'metadata': {'iso_language_code': 'en', 'result_type': 'recent'}, 'source': '<a href=\"https://mobile.twitter.com\" rel=\"nofollow\">Twitter Web App</a>', 'in_reply_to_status_id': None, 'in_reply_to_status_id_str': None, 'in_reply_to_user_id': None, 'in_reply_to_user_id_str': None, 'in_reply_to_screen_name': None, 'user': {'id': 4920403269, 'id_str': '4920403269', 'name': 'The King Cometh', 'screen_name': 'Dragonzord572', 'location': '', 'description': '', 'url': None, 'entities': {'description': {'urls': []}}, 'protected': False, 'followers_count': 10, 'friends_count': 27, 'listed_count': 0, 'created_at': 'Tue Feb 16 18:41:29 +0000 2016', 'favourites_count': 233, 'utc_offset': None, 'time_zone': None, 'geo_enabled': False, 'verified': False, 'statuses_count': 1519, 'lang': 'en', 'contributors_enabled': False, 'is_translator': False, 'is_translation_enabled': False, 'profile_background_color': 'F5F8FA', 'profile_background_image_url': None, 'profile_background_image_url_https': None, 'profile_background_tile': False, 'profile_image_url': 'http://pbs.twimg.com/profile_images/1076250497584115712/Frn3_KLG_normal.jpg', 'profile_image_url_https': 'https://pbs.twimg.com/profile_images/1076250497584115712/Frn3_KLG_normal.jpg', 'profile_link_color': '1DA1F2', 'profile_sidebar_border_color': 'C0DEED', 'profile_sidebar_fill_color': 'DDEEF6', 'profile_text_color': '333333', 'profile_use_background_image': True, 'has_extended_profile': False, 'default_profile': True, 'default_profile_image': False, 'following': False, 'follow_request_sent': False, 'notifications': False, 'translator_type': 'none'}, 'geo': None, 'coordinates': None, 'place': None, 'contributors': None, 'is_quote_status': False, 'retweet_count': 1, 'favorite_count': 1, 'favorited': False, 'retweeted': False, 'lang': 'en'}, 'is_quote_status': False, 'retweet_count': 1, 'favorite_count': 0, 'favorited': False, 'retweeted': False, 'lang': 'en'}, created_at=datetime.datetime(2019, 3, 9, 23, 54, 48), id=1104531010530799619, id_str='1104531010530799619', text='RT @Dragonzord572: #CaptainMarvel was with out a doubt the worst MCU movie of all time. Holy shit. This was so boring and retarded I almost…', truncated=False, entities={'hashtags': [{'text': 'CaptainMarvel', 'indices': [19, 33]}], 'symbols': [], 'user_mentions': [{'screen_name': 'Dragonzord572', 'name': 'The King Cometh', 'id': 4920403269, 'id_str': '4920403269', 'indices': [3, 17]}], 'urls': []}, metadata={'iso_language_code': 'en', 'result_type': 'recent'}, source='Twitter for iPhone', source_url='http://twitter.com/download/iphone', in_reply_to_status_id=None, in_reply_to_status_id_str=None, in_reply_to_user_id=None, in_reply_to_user_id_str=None, in_reply_to_screen_name=None, author=User(_json={'id': 215050879, 'id_str': '215050879', 'name': 'Patience', 'screen_name': 'MusicL0ver84', 'location': 'Orlando, FL', 'description': '🎗🎵👩\\u200d👧🍺🏈🌊 💔🖤💛', 'url': None, 'entities': {'description': {'urls': []}}, 'protected': False, 'followers_count': 1163, 'friends_count': 761, 'listed_count': 14, 'created_at': 'Fri Nov 12 21:48:29 +0000 2010', 'favourites_count': 20144, 'utc_offset': None, 'time_zone': None, 'geo_enabled': True, 'verified': False, 'statuses_count': 2670, 'lang': 'en', 'contributors_enabled': False, 'is_translator': False, 'is_translation_enabled': False, 'profile_background_color': '010A0D', 'profile_background_image_url': 'http://abs.twimg.com/images/themes/theme1/bg.png', 'profile_background_image_url_https': 'https://abs.twimg.com/images/themes/theme1/bg.png', 'profile_background_tile': True, 'profile_image_url': 'http://pbs.twimg.com/profile_images/1093622569637498882/lMo9zEUO_normal.jpg', 'profile_image_url_https': 'https://pbs.twimg.com/profile_images/1093622569637498882/lMo9zEUO_normal.jpg', 'profile_banner_url': 'https://pbs.twimg.com/profile_banners/215050879/1551274782', 'profile_link_color': 'F07509', 'profile_sidebar_border_color': 'FFFFFF', 'profile_sidebar_fill_color': '000000', 'profile_text_color': '404040', 'profile_use_background_image': True, 'has_extended_profile': True, 'default_profile': False, 'default_profile_image': False, 'following': False, 'follow_request_sent': False, 'notifications': False, 'translator_type': 'none'}, id=215050879, id_str='215050879', name='Patience', screen_name='MusicL0ver84', location='Orlando, FL', description='🎗🎵👩\\u200d👧🍺🏈🌊 💔🖤💛', url=None, entities={'description': {'urls': []}}, protected=False, followers_count=1163, friends_count=761, listed_count=14, created_at=datetime.datetime(2010, 11, 12, 21, 48, 29), favourites_count=20144, utc_offset=None, time_zone=None, geo_enabled=True, verified=False, statuses_count=2670, lang='en', contributors_enabled=False, is_translator=False, is_translation_enabled=False, profile_background_color='010A0D', profile_background_image_url='http://abs.twimg.com/images/themes/theme1/bg.png', profile_background_image_url_https='https://abs.twimg.com/images/themes/theme1/bg.png', profile_background_tile=True, profile_image_url='http://pbs.twimg.com/profile_images/1093622569637498882/lMo9zEUO_normal.jpg', profile_image_url_https='https://pbs.twimg.com/profile_images/1093622569637498882/lMo9zEUO_normal.jpg', profile_banner_url='https://pbs.twimg.com/profile_banners/215050879/1551274782', profile_link_color='F07509', profile_sidebar_border_color='FFFFFF', profile_sidebar_fill_color='000000', profile_text_color='404040', profile_use_background_image=True, has_extended_profile=True, default_profile=False, default_profile_image=False, following=False, follow_request_sent=False, notifications=False, translator_type='none'), user=User(_json={'id': 215050879, 'id_str': '215050879', 'name': 'Patience', 'screen_name': 'MusicL0ver84', 'location': 'Orlando, FL', 'description': '🎗🎵👩\\u200d👧🍺🏈🌊 💔🖤💛', 'url': None, 'entities': {'description': {'urls': []}}, 'protected': False, 'followers_count': 1163, 'friends_count': 761, 'listed_count': 14, 'created_at': 'Fri Nov 12 21:48:29 +0000 2010', 'favourites_count': 20144, 'utc_offset': None, 'time_zone': None, 'geo_enabled': True, 'verified': False, 'statuses_count': 2670, 'lang': 'en', 'contributors_enabled': False, 'is_translator': False, 'is_translation_enabled': False, 'profile_background_color': '010A0D', 'profile_background_image_url': 'http://abs.twimg.com/images/themes/theme1/bg.png', 'profile_background_image_url_https': 'https://abs.twimg.com/images/themes/theme1/bg.png', 'profile_background_tile': True, 'profile_image_url': 'http://pbs.twimg.com/profile_images/1093622569637498882/lMo9zEUO_normal.jpg', 'profile_image_url_https': 'https://pbs.twimg.com/profile_images/1093622569637498882/lMo9zEUO_normal.jpg', 'profile_banner_url': 'https://pbs.twimg.com/profile_banners/215050879/1551274782', 'profile_link_color': 'F07509', 'profile_sidebar_border_color': 'FFFFFF', 'profile_sidebar_fill_color': '000000', 'profile_text_color': '404040', 'profile_use_background_image': True, 'has_extended_profile': True, 'default_profile': False, 'default_profile_image': False, 'following': False, 'follow_request_sent': False, 'notifications': False, 'translator_type': 'none'}, id=215050879, id_str='215050879', name='Patience', screen_name='MusicL0ver84', location='Orlando, FL', description='🎗🎵👩\\u200d👧🍺🏈🌊 💔🖤💛', url=None, entities={'description': {'urls': []}}, protected=False, followers_count=1163, friends_count=761, listed_count=14, created_at=datetime.datetime(2010, 11, 12, 21, 48, 29), favourites_count=20144, utc_offset=None, time_zone=None, geo_enabled=True, verified=False, statuses_count=2670, lang='en', contributors_enabled=False, is_translator=False, is_translation_enabled=False, profile_background_color='010A0D', profile_background_image_url='http://abs.twimg.com/images/themes/theme1/bg.png', profile_background_image_url_https='https://abs.twimg.com/images/themes/theme1/bg.png', profile_background_tile=True, profile_image_url='http://pbs.twimg.com/profile_images/1093622569637498882/lMo9zEUO_normal.jpg', profile_image_url_https='https://pbs.twimg.com/profile_images/1093622569637498882/lMo9zEUO_normal.jpg', profile_banner_url='https://pbs.twimg.com/profile_banners/215050879/1551274782', profile_link_color='F07509', profile_sidebar_border_color='FFFFFF', profile_sidebar_fill_color='000000', profile_text_color='404040', profile_use_background_image=True, has_extended_profile=True, default_profile=False, default_profile_image=False, following=False, follow_request_sent=False, notifications=False, translator_type='none'), geo=None, coordinates=None, place=None, contributors=None, retweeted_status=Status(_json={'created_at': 'Sat Mar 09 22:41:45 +0000 2019', 'id': 1104512627441573888, 'id_str': '1104512627441573888', 'text': '#CaptainMarvel was with out a doubt the worst MCU movie of all time. Holy shit. This was so boring and retarded I almost legit fell asleep.', 'truncated': False, 'entities': {'hashtags': [{'text': 'CaptainMarvel', 'indices': [0, 14]}], 'symbols': [], 'user_mentions': [], 'urls': []}, 'metadata': {'iso_language_code': 'en', 'result_type': 'recent'}, 'source': '<a href=\"https://mobile.twitter.com\" rel=\"nofollow\">Twitter Web App</a>', 'in_reply_to_status_id': None, 'in_reply_to_status_id_str': None, 'in_reply_to_user_id': None, 'in_reply_to_user_id_str': None, 'in_reply_to_screen_name': None, 'user': {'id': 4920403269, 'id_str': '4920403269', 'name': 'The King Cometh', 'screen_name': 'Dragonzord572', 'location': '', 'description': '', 'url': None, 'entities': {'description': {'urls': []}}, 'protected': False, 'followers_count': 10, 'friends_count': 27, 'listed_count': 0, 'created_at': 'Tue Feb 16 18:41:29 +0000 2016', 'favourites_count': 233, 'utc_offset': None, 'time_zone': None, 'geo_enabled': False, 'verified': False, 'statuses_count': 1519, 'lang': 'en', 'contributors_enabled': False, 'is_translator': False, 'is_translation_enabled': False, 'profile_background_color': 'F5F8FA', 'profile_background_image_url': None, 'profile_background_image_url_https': None, 'profile_background_tile': False, 'profile_image_url': 'http://pbs.twimg.com/profile_images/1076250497584115712/Frn3_KLG_normal.jpg', 'profile_image_url_https': 'https://pbs.twimg.com/profile_images/1076250497584115712/Frn3_KLG_normal.jpg', 'profile_link_color': '1DA1F2', 'profile_sidebar_border_color': 'C0DEED', 'profile_sidebar_fill_color': 'DDEEF6', 'profile_text_color': '333333', 'profile_use_background_image': True, 'has_extended_profile': False, 'default_profile': True, 'default_profile_image': False, 'following': False, 'follow_request_sent': False, 'notifications': False, 'translator_type': 'none'}, 'geo': None, 'coordinates': None, 'place': None, 'contributors': None, 'is_quote_status': False, 'retweet_count': 1, 'favorite_count': 1, 'favorited': False, 'retweeted': False, 'lang': 'en'}, created_at=datetime.datetime(2019, 3, 9, 22, 41, 45), id=1104512627441573888, id_str='1104512627441573888', text='#CaptainMarvel was with out a doubt the worst MCU movie of all time. Holy shit. This was so boring and retarded I almost legit fell asleep.', truncated=False, entities={'hashtags': [{'text': 'CaptainMarvel', 'indices': [0, 14]}], 'symbols': [], 'user_mentions': [], 'urls': []}, metadata={'iso_language_code': 'en', 'result_type': 'recent'}, source='Twitter Web App', source_url='https://mobile.twitter.com', in_reply_to_status_id=None, in_reply_to_status_id_str=None, in_reply_to_user_id=None, in_reply_to_user_id_str=None, in_reply_to_screen_name=None, author=User(_json={'id': 4920403269, 'id_str': '4920403269', 'name': 'The King Cometh', 'screen_name': 'Dragonzord572', 'location': '', 'description': '', 'url': None, 'entities': {'description': {'urls': []}}, 'protected': False, 'followers_count': 10, 'friends_count': 27, 'listed_count': 0, 'created_at': 'Tue Feb 16 18:41:29 +0000 2016', 'favourites_count': 233, 'utc_offset': None, 'time_zone': None, 'geo_enabled': False, 'verified': False, 'statuses_count': 1519, 'lang': 'en', 'contributors_enabled': False, 'is_translator': False, 'is_translation_enabled': False, 'profile_background_color': 'F5F8FA', 'profile_background_image_url': None, 'profile_background_image_url_https': None, 'profile_background_tile': False, 'profile_image_url': 'http://pbs.twimg.com/profile_images/1076250497584115712/Frn3_KLG_normal.jpg', 'profile_image_url_https': 'https://pbs.twimg.com/profile_images/1076250497584115712/Frn3_KLG_normal.jpg', 'profile_link_color': '1DA1F2', 'profile_sidebar_border_color': 'C0DEED', 'profile_sidebar_fill_color': 'DDEEF6', 'profile_text_color': '333333', 'profile_use_background_image': True, 'has_extended_profile': False, 'default_profile': True, 'default_profile_image': False, 'following': False, 'follow_request_sent': False, 'notifications': False, 'translator_type': 'none'}, id=4920403269, id_str='4920403269', name='The King Cometh', screen_name='Dragonzord572', location='', description='', url=None, entities={'description': {'urls': []}}, protected=False, followers_count=10, friends_count=27, listed_count=0, created_at=datetime.datetime(2016, 2, 16, 18, 41, 29), favourites_count=233, utc_offset=None, time_zone=None, geo_enabled=False, verified=False, statuses_count=1519, lang='en', contributors_enabled=False, is_translator=False, is_translation_enabled=False, profile_background_color='F5F8FA', profile_background_image_url=None, profile_background_image_url_https=None, profile_background_tile=False, profile_image_url='http://pbs.twimg.com/profile_images/1076250497584115712/Frn3_KLG_normal.jpg', profile_image_url_https='https://pbs.twimg.com/profile_images/1076250497584115712/Frn3_KLG_normal.jpg', profile_link_color='1DA1F2', profile_sidebar_border_color='C0DEED', profile_sidebar_fill_color='DDEEF6', profile_text_color='333333', profile_use_background_image=True, has_extended_profile=False, default_profile=True, default_profile_image=False, following=False, follow_request_sent=False, notifications=False, translator_type='none'), user=User(_json={'id': 4920403269, 'id_str': '4920403269', 'name': 'The King Cometh', 'screen_name': 'Dragonzord572', 'location': '', 'description': '', 'url': None, 'entities': {'description': {'urls': []}}, 'protected': False, 'followers_count': 10, 'friends_count': 27, 'listed_count': 0, 'created_at': 'Tue Feb 16 18:41:29 +0000 2016', 'favourites_count': 233, 'utc_offset': None, 'time_zone': None, 'geo_enabled': False, 'verified': False, 'statuses_count': 1519, 'lang': 'en', 'contributors_enabled': False, 'is_translator': False, 'is_translation_enabled': False, 'profile_background_color': 'F5F8FA', 'profile_background_image_url': None, 'profile_background_image_url_https': None, 'profile_background_tile': False, 'profile_image_url': 'http://pbs.twimg.com/profile_images/1076250497584115712/Frn3_KLG_normal.jpg', 'profile_image_url_https': 'https://pbs.twimg.com/profile_images/1076250497584115712/Frn3_KLG_normal.jpg', 'profile_link_color': '1DA1F2', 'profile_sidebar_border_color': 'C0DEED', 'profile_sidebar_fill_color': 'DDEEF6', 'profile_text_color': '333333', 'profile_use_background_image': True, 'has_extended_profile': False, 'default_profile': True, 'default_profile_image': False, 'following': False, 'follow_request_sent': False, 'notifications': False, 'translator_type': 'none'}, id=4920403269, id_str='4920403269', name='The King Cometh', screen_name='Dragonzord572', location='', description='', url=None, entities={'description': {'urls': []}}, protected=False, followers_count=10, friends_count=27, listed_count=0, created_at=datetime.datetime(2016, 2, 16, 18, 41, 29), favourites_count=233, utc_offset=None, time_zone=None, geo_enabled=False, verified=False, statuses_count=1519, lang='en', contributors_enabled=False, is_translator=False, is_translation_enabled=False, profile_background_color='F5F8FA', profile_background_image_url=None, profile_background_image_url_https=None, profile_background_tile=False, profile_image_url='http://pbs.twimg.com/profile_images/1076250497584115712/Frn3_KLG_normal.jpg', profile_image_url_https='https://pbs.twimg.com/profile_images/1076250497584115712/Frn3_KLG_normal.jpg', profile_link_color='1DA1F2', profile_sidebar_border_color='C0DEED', profile_sidebar_fill_color='DDEEF6', profile_text_color='333333', profile_use_background_image=True, has_extended_profile=False, default_profile=True, default_profile_image=False, following=False, follow_request_sent=False, notifications=False, translator_type='none'), geo=None, coordinates=None, place=None, contributors=None, is_quote_status=False, retweet_count=1, favorite_count=1, favorited=False, retweeted=False, lang='en'), is_quote_status=False, retweet_count=1, favorite_count=0, favorited=False, retweeted=False, lang='en')\n"
     ]
    }
   ],
   "source": [
    "# analyzer = SentimentIntensityAnalyzer()\n",
    "# scores = np.zeros(len(captain_twitter))\n",
    "\n",
    "# for i, t in enumerate(captain_twitter):\n",
    "#     # Extract the text portion of the tweet\n",
    "#     text = t.text\n",
    "    \n",
    "#     # Measure the polarity of the tweet\n",
    "#     polarity = analyzer.polarity_scores(text)\n",
    "    \n",
    "#     # Store the normalized, weighted composite score\n",
    "#     scores[i] = polarity['compound']\n",
    "# most_positive = np.argmax(scores)\n",
    "# most_negative = np.argmin(scores)\n",
    "# #print('{0:6.3f} : \"{1}\"'.format(scores[most_positive], captain_twitter[most_positive].text))\n",
    "# print(i, captain_twitter[most_negative].text)\n",
    "#print(most_negative)\n",
    "print(captain_twitter[6546])"
   ]
  },
  {
   "cell_type": "code",
   "execution_count": null,
   "metadata": {},
   "outputs": [],
   "source": []
  }
 ],
 "metadata": {
  "kernelspec": {
   "display_name": "Python 3 (Spyder)",
   "language": "python3",
   "name": "python3"
  },
  "language_info": {
   "codemirror_mode": {
    "name": "ipython",
    "version": 3
   },
   "file_extension": ".py",
   "mimetype": "text/x-python",
   "name": "python",
   "nbconvert_exporter": "python",
   "pygments_lexer": "ipython3",
   "version": "3.7.1"
  }
 },
 "nbformat": 4,
 "nbformat_minor": 2
}
